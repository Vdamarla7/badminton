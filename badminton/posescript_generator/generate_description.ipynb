{
 "cells": [
  {
   "cell_type": "code",
   "execution_count": 2,
   "id": "b06e9ca0",
   "metadata": {},
   "outputs": [],
   "source": [
    "import sys\n",
    "import pandas as pd\n",
    "import numpy as np\n",
    "from pathlib import Path\n",
    "\n",
    "from models import PoseData, setup_logging\n",
    "from posescript_generator import PoseScriptGenerator"
   ]
  },
  {
   "cell_type": "code",
   "execution_count": 3,
   "id": "3101d603",
   "metadata": {},
   "outputs": [],
   "source": [
    "def extract_player_keypoints(df_row, player='a', confidence_threshold=0.3):\n",
    "    \"\"\"Extract player keypoints from a CSV row using bounding box normalization.\n",
    "    \n",
    "    Args:\n",
    "        df_row: DataFrame row containing pose data\n",
    "        player: Player identifier ('a' or 'b')\n",
    "        confidence_threshold: Minimum confidence score for keypoints (0.0 to 1.0)\n",
    "        \n",
    "    Returns:\n",
    "        List of (x, y, confidence) tuples representing COCO keypoint coordinates\n",
    "    \"\"\"\n",
    "    if player not in ['a', 'b']:\n",
    "        raise ValueError(\"Player must be 'a' or 'b'\")\n",
    "    \n",
    "    keypoint_names = [\n",
    "        'nose', 'left_eye', 'right_eye', 'left_ear', 'right_ear',\n",
    "        'left_shoulder', 'right_shoulder', 'left_elbow', 'right_elbow',\n",
    "        'left_wrist', 'right_wrist', 'left_hip', 'right_hip',\n",
    "        'left_knee', 'right_knee', 'left_ankle', 'right_ankle'\n",
    "    ]\n",
    "    \n",
    "    # Get bounding box from CSV - this provides proper normalization context\n",
    "    bbox_prefix = f'{player}bb'  # 'abb' for player a, 'bbb' for player b\n",
    "    x_min = df_row[f'{bbox_prefix}_xmin']\n",
    "    y_min = df_row[f'{bbox_prefix}_ymin'] \n",
    "    x_max = df_row[f'{bbox_prefix}_xmax']\n",
    "    y_max = df_row[f'{bbox_prefix}_ymax']\n",
    "    \n",
    "    # Calculate bounding box dimensions\n",
    "    bbox_width = x_max - x_min\n",
    "    bbox_height = y_max - y_min\n",
    "    bbox_center_x = (x_min + x_max) / 2.0\n",
    "    bbox_center_y = (y_min + y_max) / 2.0\n",
    "    \n",
    "    keypoints = []\n",
    "    \n",
    "    for kp_name in keypoint_names:\n",
    "        x_col = f'{player}_{kp_name}_x'\n",
    "        y_col = f'{player}_{kp_name}_y'\n",
    "        conf_col = f'{player}_{kp_name}_confidence'\n",
    "        \n",
    "        x_img = df_row[x_col] \n",
    "        y_img = df_row[y_col] \n",
    "        y_img = bbox_height - y_img\n",
    "        conf = df_row[conf_col]\n",
    "        \n",
    "        # Return 3D format for PoseScript: (z, y, x) where z=0 for 2D poses\n",
    "        keypoints.append((x_img, y_img, conf))\n",
    "    \n",
    "    return keypoints"
   ]
  },
  {
   "cell_type": "code",
   "execution_count": null,
   "id": "b34b5c6b",
   "metadata": {},
   "outputs": [
    {
     "name": "stderr",
     "output_type": "stream",
     "text": [
      "INFO:posescript_generator:PoseScriptGenerator initialized with model: /Users/chanakyd/work/badminton/posescript/capgen/seed1/checkpoint_best.pth\n"
     ]
    },
    {
     "ename": "SyntaxError",
     "evalue": "'return' outside function (2277288559.py, line 11)",
     "output_type": "error",
     "traceback": [
      "\u001b[0;36m  Cell \u001b[0;32mIn[7], line 11\u001b[0;36m\u001b[0m\n\u001b[0;31m    return\u001b[0m\n\u001b[0m    ^\u001b[0m\n\u001b[0;31mSyntaxError\u001b[0m\u001b[0;31m:\u001b[0m 'return' outside function\n"
     ]
    }
   ],
   "source": [
    "# Read the CSV file\n",
    "csv_path = \"/Users/chanakyd/work/badminton/VB_DATA/poses/14_Smash/2022-08-30_18-00-09_dataset_set1_087_006675_006699_B_14.csv\"\n",
    "player = 'b'\n",
    "\n",
    "df = pd.read_csv(csv_path)\n",
    "\n",
    "# Initialize PoseScriptGenerator\n",
    "pose_script_gen = PoseScriptGenerator()\n",
    "if not pose_script_gen.initialize():\n",
    "    print(\"❌ Failed to initialize PoseScriptGenerator\")\n",
    "\n",
    "# Generate textual description for player 'b'\n",
    "descriptions = []\n",
    "for _, row in df.iterrows():\n",
    "    keypoints = extract_player_keypoints(row, player=player)\n",
    "    pose_data = PoseData(keypoints)\n",
    "    description = pose_script_gen.generate_description(pose_data)\n",
    "    descriptions.append(description)\n",
    "\n",
    "# Print the generated descriptions\n",
    "for desc in descriptions:\n",
    "    print(desc)"
   ]
  }
 ],
 "metadata": {
  "kernelspec": {
   "display_name": "badminton-py3.12",
   "language": "python",
   "name": "python3"
  },
  "language_info": {
   "codemirror_mode": {
    "name": "ipython",
    "version": 3
   },
   "file_extension": ".py",
   "mimetype": "text/x-python",
   "name": "python",
   "nbconvert_exporter": "python",
   "pygments_lexer": "ipython3",
   "version": "3.12.3"
  }
 },
 "nbformat": 4,
 "nbformat_minor": 5
}
